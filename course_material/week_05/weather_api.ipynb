{
 "cells": [
  {
   "cell_type": "markdown",
   "metadata": {},
   "source": [
    "### OpenWeatherMap\n",
    "Free Weather API\n",
    "\n",
    "https://openweathermap.org/\n",
    "#### Create account\n",
    "1. Create your account. \n",
    "2. Generate API Key.\n",
    "3. Create a file called `api_keys.py`\n",
    "    - add a variable `api_key = 'YOUR API KEY HERE'`\n",
    "4. Save API key.\n",
    "5. Add .gitignore file\n",
    "    - add a line `api_keys.py` to the file"
   ]
  },
  {
   "cell_type": "code",
   "execution_count": null,
   "metadata": {},
   "outputs": [],
   "source": [
    "from api_keys import api_key\n",
    "\n",
    "# you imported a variable name api_key\n",
    "# keys should be kept safe! \n",
    "if api_key:\n",
    "    print(f'API key present! The first 5 characters are: {api_key[:5]}')"
   ]
  },
  {
   "cell_type": "code",
   "execution_count": 15,
   "metadata": {},
   "outputs": [],
   "source": [
    "# Pip install these if you do not have them installed\n",
    "import requests, citipy\n",
    "from pprint import pprint"
   ]
  },
  {
   "cell_type": "markdown",
   "metadata": {},
   "source": [
    "[What is a URL](https://developer.mozilla.org/en-US/docs/Learn/Common_questions/What_is_a_URL)\n",
    "\n",
    "[Anatomy of a URL](https://websitebuilders.com/how-to/web-at-a-glance/url-anatomy/)"
   ]
  },
  {
   "cell_type": "code",
   "execution_count": 42,
   "metadata": {},
   "outputs": [],
   "source": [
    "url = 'http://www.example.com'\n",
    "\n",
    "# Very popular and great example of good python library\n",
    "req = requests.get(url)\n",
    "\n",
    "# dir(req)\n",
    "\n",
    "# print req.txt\n",
    "\n",
    "# gives html\n",
    "# This is how web-scraping is done. "
   ]
  },
  {
   "cell_type": "code",
   "execution_count": 32,
   "metadata": {},
   "outputs": [],
   "source": [
    "# get weather data for saint louis\n",
    "\n",
    "# base url for all requests. We can change the city to find data for different cities\n",
    "base_url = \"http://api.openweathermap.org/data/2.5/weather?units=Imperial&APPID=\" + api_key\n",
    "city = ''\n",
    "\n",
    "# f-strings to the rescue!\n",
    "req = requests.get(base_url + f'&q={city}')\n",
    "\n",
    "\n",
    "# get req text\n",
    "# generates a string of data"
   ]
  },
  {
   "cell_type": "code",
   "execution_count": 35,
   "metadata": {},
   "outputs": [],
   "source": [
    "# parsing a string to extract the data is a pain! \n",
    "# Let's get something more useful.\n",
    "\n",
    "#turn into json/dict format\n",
    "# json_data = req.json()\n",
    "# print(type(json_data))\n",
    "# print(json_data)"
   ]
  },
  {
   "cell_type": "code",
   "execution_count": 36,
   "metadata": {},
   "outputs": [],
   "source": [
    "# Hmm.... still hard to read. \n",
    "# Let's pretty print it! \n",
    "# pprint(json_data)\n",
    "# Much easier to read! "
   ]
  },
  {
   "cell_type": "code",
   "execution_count": 37,
   "metadata": {},
   "outputs": [],
   "source": [
    "# Access data by traversing the dictionary. \n",
    "# Use dictionary access and list access methods\n",
    "# access wind info\n",
    "\n",
    "#access wind speed"
   ]
  },
  {
   "cell_type": "code",
   "execution_count": 38,
   "metadata": {},
   "outputs": [],
   "source": [
    "# Lists can also be used in JSON/dicts\n",
    "# access weather description"
   ]
  },
  {
   "cell_type": "markdown",
   "metadata": {},
   "source": [
    "#### Final Thoughts:\n",
    "1. APIs limit requests. Especially free ones. \n",
    "2. If you run out of requests you will have to wait until more are allowed. \n",
    "3. For the homework: Run small batches of requests until you get good code. Then run all requests. \n",
    "4. Avoid unecessarily running the code to make API calls once it's working. \n",
    "5. API calls can be notoriously slow! \n",
    "6. This HW is a gread candiate for your portfolio! Start early and make it awesome! "
   ]
  },
  {
   "cell_type": "markdown",
   "metadata": {},
   "source": [
    "https://restfulapi.net/http-methods/"
   ]
  },
  {
   "cell_type": "code",
   "execution_count": null,
   "metadata": {},
   "outputs": [],
   "source": [
    "# Time permitting:\n",
    "# Create a list of cities\n",
    "# Create data structure to hold data points (at least 2)\n",
    "# Loop over list of cities and add data to data structure\n",
    "# convert to DataFrame"
   ]
  }
 ],
 "metadata": {
  "kernelspec": {
   "display_name": "Python 3",
   "language": "python",
   "name": "python3"
  },
  "language_info": {
   "codemirror_mode": {
    "name": "ipython",
    "version": 3
   },
   "file_extension": ".py",
   "mimetype": "text/x-python",
   "name": "python",
   "nbconvert_exporter": "python",
   "pygments_lexer": "ipython3",
   "version": "3.8.5"
  }
 },
 "nbformat": 4,
 "nbformat_minor": 4
}
