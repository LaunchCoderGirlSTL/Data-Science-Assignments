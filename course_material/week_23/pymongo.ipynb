{
 "cells": [
  {
   "cell_type": "code",
   "execution_count": 1,
   "metadata": {},
   "outputs": [],
   "source": [
    "import pymongo\n",
    "import datetime\n",
    "\n",
    "#connect to mongodb on default port\n",
    "conn='mongodb://localhost:27017'\n",
    "client=pymongo.MongoClient(conn)\n",
    "\n",
    "#create a database\n",
    "sdb = client.shows_db\n",
    "\n",
    "#create a collection in that DB\n",
    "tv_shows = sdb.tv_shows"
   ]
  },
  {
   "cell_type": "code",
   "execution_count": 3,
   "metadata": {},
   "outputs": [
    {
     "data": {
      "text/plain": [
       "<pymongo.results.InsertOneResult at 0x284c1f02a40>"
      ]
     },
     "execution_count": 3,
     "metadata": {},
     "output_type": "execute_result"
    }
   ],
   "source": [
    "#CREATE\n",
    "post_data = {'name':'My Life is Murder',\n",
    "            'seasons':2,\n",
    "             'duration':'45 minutes',\n",
    "             'year':2019,\n",
    "             'date_added':datetime.datetime.utcnow()\n",
    "            }\n",
    "\n",
    "tv_shows.insert_one(post_data)"
   ]
  },
  {
   "cell_type": "code",
   "execution_count": 6,
   "metadata": {},
   "outputs": [
    {
     "name": "stdout",
     "output_type": "stream",
     "text": [
      "{'_id': ObjectId('621edc9f5acd7ba04cce9db6'), 'name': 'Ted Lasso', 'seasons': 2, 'duration': '30 mins', 'year': 2020, 'date_added': datetime.datetime(2022, 3, 2, 2, 55, 27, 388000)}\n",
      "{'_id': ObjectId('622010150e27fb5ec14453fa'), 'name': 'My Life is Murder', 'seasons': 2, 'duration': '45 minutes', 'year': 2019, 'date_added': datetime.datetime(2022, 3, 3, 0, 47, 17, 954000)}\n"
     ]
    }
   ],
   "source": [
    "#READ\n",
    "results= tv_shows.find()\n",
    "for result in results:\n",
    "    print(result)"
   ]
  },
  {
   "cell_type": "code",
   "execution_count": 5,
   "metadata": {},
   "outputs": [
    {
     "data": {
      "text/plain": [
       "<pymongo.results.DeleteResult at 0x284c2f4bb40>"
      ]
     },
     "execution_count": 5,
     "metadata": {},
     "output_type": "execute_result"
    }
   ],
   "source": [
    "#DELETE\n",
    "tv_shows.delete_one({'name':'Deamon Slayer'})"
   ]
  },
  {
   "cell_type": "code",
   "execution_count": null,
   "metadata": {},
   "outputs": [],
   "source": [
    "show_name = input(\"what show are you watching?\")"
   ]
  }
 ],
 "metadata": {
  "kernelspec": {
   "display_name": "Python 3",
   "language": "python",
   "name": "python3"
  },
  "language_info": {
   "codemirror_mode": {
    "name": "ipython",
    "version": 3
   },
   "file_extension": ".py",
   "mimetype": "text/x-python",
   "name": "python",
   "nbconvert_exporter": "python",
   "pygments_lexer": "ipython3",
   "version": "3.8.3"
  }
 },
 "nbformat": 4,
 "nbformat_minor": 4
}
